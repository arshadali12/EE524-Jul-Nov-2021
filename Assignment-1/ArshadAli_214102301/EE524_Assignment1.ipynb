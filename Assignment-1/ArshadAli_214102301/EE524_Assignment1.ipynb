{
 "cells": [
  {
   "cell_type": "markdown",
   "id": "2ea3c920",
   "metadata": {},
   "source": [
    "# EE 524 Assignment 1\n",
    "\n",
    "## Submitted by:\n",
    "### Arshad Ali (214102301)\n",
    "\n"
   ]
  },
  {
   "cell_type": "code",
   "execution_count": null,
   "id": "5b9fceba",
   "metadata": {},
   "outputs": [],
   "source": []
  },
  {
   "cell_type": "markdown",
   "id": "e17fcdf1",
   "metadata": {},
   "source": [
    "## Question 1"
   ]
  },
  {
   "cell_type": "code",
   "execution_count": null,
   "id": "2dd0ba61",
   "metadata": {},
   "outputs": [],
   "source": [
    "print(\"Hello World!\")"
   ]
  },
  {
   "cell_type": "markdown",
   "id": "eda69db1",
   "metadata": {},
   "source": [
    "## Question 2"
   ]
  },
  {
   "cell_type": "code",
   "execution_count": null,
   "id": "1013e86e",
   "metadata": {},
   "outputs": [],
   "source": [
    "a = int(input(\"Enter first number :\"))\n",
    "b = int(input(\"Enter second number :\"))\n",
    "c = a+b\n",
    "d = a-b\n",
    "e =a*b\n",
    "f =a/b\n",
    "g=a%b\n",
    "print(\"addition is :\",c,\"\\nsubtraction is \" ,d ,\"\\nmultipication is : \",e,\"\\ndivison is :\",f,\"\\n % is\",g,)"
   ]
  },
  {
   "cell_type": "markdown",
   "id": "f7de424f",
   "metadata": {},
   "source": [
    "## Question 3"
   ]
  },
  {
   "cell_type": "code",
   "execution_count": 1,
   "id": "7628b819",
   "metadata": {},
   "outputs": [
    {
     "name": "stdout",
     "output_type": "stream",
     "text": [
      "Enter number: 4\n",
      "24\n"
     ]
    }
   ],
   "source": [
    "num =int(input(\"Enter number: \"))\n",
    "def fact(n):\n",
    "    prod = 1\n",
    "    while(n!=1):\n",
    "        prod = prod*n\n",
    "        n = n-1\n",
    "    return prod\n",
    "print(fact(num))"
   ]
  },
  {
   "cell_type": "markdown",
   "id": "c304cc08",
   "metadata": {},
   "source": [
    "## Question 4"
   ]
  },
  {
   "cell_type": "code",
   "execution_count": 2,
   "id": "534eceff",
   "metadata": {},
   "outputs": [
    {
     "name": "stdout",
     "output_type": "stream",
     "text": [
      "enter first no :17\n",
      "enter second no :50\n",
      "prime no between  17 and 50 are :\n",
      "17\n",
      "19\n",
      "23\n",
      "29\n",
      "31\n",
      "37\n",
      "41\n",
      "43\n",
      "47\n"
     ]
    }
   ],
   "source": [
    "def isPrime(n):\n",
    "    for i in range(2,n):\n",
    "        if n%i == 0:\n",
    "            return False\n",
    "    \n",
    "    return True\n",
    "\n",
    "a = int(input(\"enter first no :\"))\n",
    "b = int(input(\"enter second no :\"))\n",
    "print(\"prime no between \",a,\"and\",b,\"are :\")\n",
    "for n in range(a,b+1):\n",
    "    if isPrime(n):\n",
    "        print(n)"
   ]
  },
  {
   "cell_type": "code",
   "execution_count": null,
   "id": "155efa7a",
   "metadata": {},
   "outputs": [],
   "source": []
  },
  {
   "cell_type": "markdown",
   "id": "4a1364f5",
   "metadata": {},
   "source": [
    "## Question 5"
   ]
  },
  {
   "cell_type": "code",
   "execution_count": 43,
   "id": "b20c424b",
   "metadata": {},
   "outputs": [
    {
     "name": "stdout",
     "output_type": "stream",
     "text": [
      "Enter a no :3\n",
      "Enter another no :16\n",
      "LCM of two no. is : 48\n"
     ]
    }
   ],
   "source": [
    "a=int(input(\"Enter a no :\"))\n",
    "b = int(input(\"Enter another no :\"))\n",
    "\n",
    "def lcm(a,b):\n",
    "    if(a>b):\n",
    "        max = a\n",
    "    else:\n",
    "        max = b\n",
    "        \n",
    "    while(True):\n",
    "        if(max%a==0 and max%b==0):\n",
    "           return max\n",
    "    \n",
    "        else:\n",
    "            max+= 1\n",
    "    return max\n",
    "print(\"LCM of two no. is :\", lcm(a,b))"
   ]
  },
  {
   "cell_type": "code",
   "execution_count": null,
   "id": "83a359c4",
   "metadata": {},
   "outputs": [],
   "source": []
  },
  {
   "cell_type": "markdown",
   "id": "3f44d804",
   "metadata": {},
   "source": [
    "## Question 6"
   ]
  },
  {
   "cell_type": "code",
   "execution_count": 53,
   "id": "7c9f74af",
   "metadata": {},
   "outputs": [
    {
     "name": "stdout",
     "output_type": "stream",
     "text": [
      "[25, 14, 13, 12, 11, 10, 9, 8, 7, 6, 5, 4, 3, 2, 1]\n",
      "[6, 11, 10, 13, 14, 12, 4, 5, 9, 8, 3, 2, 1, 0, 7]\n"
     ]
    }
   ],
   "source": [
    "lst = [2,3,4,5,9,8,25,1,6,7,13,14,10,12,11]\n",
    "arrWithIndices = []\n",
    "\n",
    "for i in range(15):\n",
    "    arrWithIndices.append([i,lst[i]])\n",
    "    \n",
    "def sortBubble(arrWithIndices):\n",
    "    n = len(arrWithIndices)\n",
    "    \n",
    "    for i in range(n):        \n",
    "        for j in range(0, n-1):        \n",
    "            if arrWithIndices[j][1] < arrWithIndices[j + 1][1]:\n",
    "                arrWithIndices[j],arrWithIndices[j+1] = arrWithIndices[j+1], arrWithIndices[j]\n",
    "    return arrWithIndices\n",
    "\n",
    "arr = sortBubble(arrWithIndices)\n",
    "sortedIndices = []\n",
    "sortedArr = []\n",
    "for i in range(15):\n",
    "    sortedIndices.append(arr[i][0])\n",
    "    sortedArr.append(arr[i][1])\n",
    "\n",
    "print(sortedArr)\n",
    "print(sortedIndices)\n"
   ]
  },
  {
   "cell_type": "code",
   "execution_count": null,
   "id": "edbbfe94",
   "metadata": {},
   "outputs": [],
   "source": []
  },
  {
   "cell_type": "markdown",
   "id": "7f8abd84",
   "metadata": {},
   "source": [
    "## Question 7"
   ]
  },
  {
   "cell_type": "code",
   "execution_count": 128,
   "id": "417ee0bc",
   "metadata": {},
   "outputs": [
    {
     "name": "stdout",
     "output_type": "stream",
     "text": [
      "[1, 2, 3, 4, 5, 6, 7, 8, 9, 10, 11, 12, 13, 14, 25]\n",
      "[7, 0, 1, 2, 3, 8, 9, 5, 4, 12, 14, 13, 10, 11, 6]\n"
     ]
    }
   ],
   "source": [
    "lst = [2,3,4,5,9,8,25,1,6,7,13,14,10,12,11]\n",
    "arrWithIndices = []\n",
    "\n",
    "for i in range(15):\n",
    "    arrWithIndices.append([i,lst[i]])\n",
    "    \n",
    "def sortBubble(arrWithIndices):\n",
    "    n = len(arrWithIndices)\n",
    "    \n",
    "    for i in range(n):        \n",
    "        for j in range(0, n-1):        \n",
    "            if arrWithIndices[j][1] > arrWithIndices[j + 1][1]:\n",
    "                arrWithIndices[j],arrWithIndices[j+1] = arrWithIndices[j+1], arrWithIndices[j]\n",
    "    return arrWithIndices\n",
    "\n",
    "arr = sortBubble(arrWithIndices)\n",
    "sortedIndices = []\n",
    "sortedArr = []\n",
    "for i in range(15):\n",
    "    sortedIndices.append(arr[i][0])\n",
    "    sortedArr.append(arr[i][1])\n",
    "\n",
    "print(sortedArr)\n",
    "print(sortedIndices)"
   ]
  },
  {
   "cell_type": "code",
   "execution_count": null,
   "id": "a36c18dd",
   "metadata": {},
   "outputs": [],
   "source": []
  },
  {
   "cell_type": "markdown",
   "id": "665ecd53",
   "metadata": {},
   "source": [
    "## Question 8"
   ]
  },
  {
   "cell_type": "code",
   "execution_count": 2,
   "id": "b0ae5dfd",
   "metadata": {},
   "outputs": [
    {
     "name": "stdout",
     "output_type": "stream",
     "text": [
      "Enter value of m4\n",
      "Enter value of n3\n",
      "[[-2  5 -1]\n",
      " [ 5  0  3]\n",
      " [ 3  0  4]\n",
      " [ 1 -2 -2]]\n"
     ]
    }
   ],
   "source": [
    "import numpy as np\n",
    "import random\n",
    "m = int(input(\"Enter value of m\"))\n",
    "n = int(input(\"Enter value of n\"))\n",
    "arr = np.random.randint(-2, 6, size = (m, n))\n",
    "print(arr)"
   ]
  },
  {
   "cell_type": "markdown",
   "id": "50dace9b",
   "metadata": {},
   "source": [
    "## Question 9"
   ]
  },
  {
   "cell_type": "code",
   "execution_count": 3,
   "id": "fbb39434",
   "metadata": {},
   "outputs": [],
   "source": [
    "import pandas as pd\n",
    "import numpy as np\n",
    "import random\n",
    "\n",
    "m=4\n",
    "n=3\n",
    "p=3\n",
    "\n",
    "mat1 = np.random.randint(1,10,12).reshape(m,n)\n",
    "mat2 = np.random.randint(1,10,9).reshape(n,p)\n",
    "mat3 = np.dot(mat1,mat2)\n",
    "\n",
    "\n",
    "result = np.zeros(12).reshape(m,p)\n",
    " \n",
    "# iterating by row of mat1\n",
    "for i in range(len(mat1)):\n",
    " \n",
    "    # iterating by column by mat2\n",
    "    for j in range(len(mat2[0])):\n",
    " \n",
    "        # iterating by rows of mat2\n",
    "        for k in range(len(mat2)):\n",
    "            result[i][j] += mat1[i][k] * mat2[k][j]\n",
    " \n",
    "\n",
    "\n"
   ]
  },
  {
   "cell_type": "code",
   "execution_count": 5,
   "id": "726db572",
   "metadata": {},
   "outputs": [
    {
     "data": {
      "text/plain": [
       "array([[86., 54., 65.],\n",
       "       [66., 48., 51.],\n",
       "       [88., 74., 84.],\n",
       "       [34., 28., 35.]])"
      ]
     },
     "execution_count": 5,
     "metadata": {},
     "output_type": "execute_result"
    }
   ],
   "source": [
    "result"
   ]
  },
  {
   "cell_type": "code",
   "execution_count": null,
   "id": "d79c7688",
   "metadata": {},
   "outputs": [],
   "source": []
  },
  {
   "cell_type": "markdown",
   "id": "3e838af9",
   "metadata": {},
   "source": [
    "## Question 10"
   ]
  },
  {
   "cell_type": "code",
   "execution_count": 72,
   "id": "b6526c68",
   "metadata": {},
   "outputs": [],
   "source": [
    "import numpy as np\n",
    "import pandas as pd\n",
    "import random \n",
    "\n",
    "random_points = np.random.rand(100,10)\n",
    "df = pd.DataFrame(random_points)\n",
    "df.to_csv(\"random_points.csv\",index_label=False)"
   ]
  },
  {
   "cell_type": "code",
   "execution_count": null,
   "id": "e8e18746",
   "metadata": {},
   "outputs": [],
   "source": []
  },
  {
   "cell_type": "markdown",
   "id": "d8176e46",
   "metadata": {},
   "source": [
    "## Question 11"
   ]
  },
  {
   "cell_type": "code",
   "execution_count": 125,
   "id": "f19d7bff",
   "metadata": {},
   "outputs": [],
   "source": [
    "import numpy as np\n",
    "import pandas as pd\n",
    "\n",
    "df = pd.read_csv(\"random_points.csv\")\n",
    "X = np.array(df)\n",
    "u= np.array(df.mean(axis=0))\n",
    "prod = 0\n",
    "\n",
    "\n",
    "for i in range(100):\n",
    "    mat1 = X[i]-u\n",
    "    mat2 = np.transpose(mat1)\n",
    "    prod+= mat1.dot(mat2)\n",
    "\n",
    "C = prod/100\n",
    "   \n",
    "\n"
   ]
  },
  {
   "cell_type": "code",
   "execution_count": null,
   "id": "16b5a430",
   "metadata": {},
   "outputs": [],
   "source": []
  },
  {
   "cell_type": "markdown",
   "id": "4e721f03",
   "metadata": {},
   "source": [
    "## Question 12"
   ]
  },
  {
   "cell_type": "code",
   "execution_count": 17,
   "id": "232b02f0",
   "metadata": {},
   "outputs": [
    {
     "name": "stdout",
     "output_type": "stream",
     "text": [
      "2 - 2i\n",
      "2.8284271247461903\n",
      "3 + 1i\n",
      "1 + 3i\n",
      "0.0 + 2.0i\n",
      "4 + 0i\n",
      "0.7853981633974483\n"
     ]
    }
   ],
   "source": [
    "import math\n",
    "class Complex:\n",
    "    def __init__(self, r, i):\n",
    "        self.real = r \n",
    "        self.imaginary = i\n",
    "        \n",
    "    def conjugate(self):\n",
    "        return Complex(self.real, -self.imaginary)\n",
    "    \n",
    "    def absolute(self):\n",
    "        return ((self.real**2) + (self.imaginary**2))**0.5\n",
    "\n",
    "    def __add__(self, c):\n",
    "        return Complex(self.real + c.real, self.imaginary + c.imaginary)\n",
    "    \n",
    "    def __sub__(self, c):\n",
    "        return Complex(self.real - c.real, self.imaginary - c.imaginary)\n",
    "    \n",
    "    def __mul__(self, c):\n",
    "        # (a+bi)(c+di) = (ac−bd) + (ad+bc)i\n",
    "        mulReal =  self.real*c.real - self.imaginary*c.imaginary\n",
    "        mulImg =  self.real*c.imaginary + self.imaginary*c.real\n",
    "        return Complex(mulReal, mulImg)\n",
    "\n",
    "    def angle(self):\n",
    "        return math.atan(self.imaginary/self.real)\n",
    "    \n",
    "    def __truediv__(self,c):\n",
    "        # (a + bi)/(c +di) = ( (ac + bd) + (bc - ad)i )/(c^2 + d^2)\n",
    "        divReal = (self.real*c.real + self.imaginary*c.imaginary)/ (c.real**2 + c.imaginary**2)\n",
    "        divImg = (self.imaginary*c.real - self.real*c.imaginary)/ (c.real**2 + c.imaginary**2)\n",
    "        return Complex(divReal,divImg)\n",
    "    \n",
    "    def __str__(self):\n",
    "        if self.imaginary<0:\n",
    "            return f\"{self.real} - {-self.imaginary}i\"\n",
    "        else:\n",
    "            return f\"{self.real} + {self.imaginary}i\"\n",
    "\n",
    "c1 = Complex(2, 2)\n",
    "c2 = Complex(1, -1)\n",
    "print(c1.conjugate())\n",
    "print(c1.absolute())\n",
    "print(c1 + c2)\n",
    "print(c1-c2)\n",
    "print(c1 / c2)\n",
    "print(c1*c2)\n",
    "print(c1.angle())"
   ]
  },
  {
   "cell_type": "code",
   "execution_count": null,
   "id": "6606cb4a",
   "metadata": {},
   "outputs": [],
   "source": []
  },
  {
   "cell_type": "markdown",
   "id": "bfbe1095",
   "metadata": {},
   "source": [
    "## Question 13"
   ]
  },
  {
   "cell_type": "code",
   "execution_count": 39,
   "id": "4099ea84",
   "metadata": {},
   "outputs": [
    {
     "data": {
      "text/plain": [
       "[<matplotlib.lines.Line2D at 0x1f5e5bbcd90>]"
      ]
     },
     "execution_count": 39,
     "metadata": {},
     "output_type": "execute_result"
    },
    {
     "data": {
      "image/png": "[encoded data removed]",
      "text/plain": [
       "<Figure size 432x288 with 1 Axes>"
      ]
     },
     "metadata": {
      "needs_background": "light"
     },
     "output_type": "display_data"
    }
   ],
   "source": [
    "import numpy as np\n",
    "import matplotlib.pyplot as plt \n",
    "%matplotlib inline\n",
    "\n",
    "x = np.linspace(-10,10,20)\n",
    "y = (3*x) + 2\n",
    "\n",
    "plt.plot(x,y)"
   ]
  },
  {
   "cell_type": "markdown",
   "id": "a77b3a4d",
   "metadata": {},
   "source": [
    "## Question 14"
   ]
  },
  {
   "cell_type": "code",
   "execution_count": 20,
   "id": "e75f4869",
   "metadata": {},
   "outputs": [
    {
     "data": {
      "text/plain": [
       "<matplotlib.patches.Ellipse at 0x1c7ad8bcd60>"
      ]
     },
     "execution_count": 20,
     "metadata": {},
     "output_type": "execute_result"
    },
    {
     "data": {
      "image/png": "[encoded data removed]",
      "text/plain": [
       "<Figure size 576x288 with 1 Axes>"
      ]
     },
     "metadata": {
      "needs_background": "light"
     },
     "output_type": "display_data"
    }
   ],
   "source": [
    "# https://matplotlib.org/stable/gallery/units/ellipse_with_units.html#sphx-glr-gallery-units-ellipse-with-units-py\n",
    "import matplotlib.pyplot as plt\n",
    "import numpy as np\n",
    "from matplotlib.patches import Ellipse\n",
    "\n",
    "fig = plt.figure(figsize=(8,4))\n",
    "ax = fig.add_axes([0.1,0.1,.8,.8])\n",
    "\n",
    "plt.xlim(-5,15)\n",
    "plt.ylim(-10,0)\n",
    "plt.grid(True)\n",
    "\n",
    "\n",
    "ellipse = Ellipse(xy=(5, -5), width=10, height=5, edgecolor='r', fc='None', lw=2)\n",
    "ax.add_patch(ellipse)\n"
   ]
  },
  {
   "cell_type": "code",
   "execution_count": null,
   "id": "981642d4",
   "metadata": {},
   "outputs": [],
   "source": []
  }
 ],
 "metadata": {
  "kernelspec": {
   "display_name": "Python 3",
   "language": "python",
   "name": "python3"
  },
  "language_info": {
   "codemirror_mode": {
    "name": "ipython",
    "version": 3
   },
   "file_extension": ".py",
   "mimetype": "text/x-python",
   "name": "python",
   "nbconvert_exporter": "python",
   "pygments_lexer": "ipython3",
   "version": "3.8.8"
  }
 },
 "nbformat": 4,
 "nbformat_minor": 5
}
